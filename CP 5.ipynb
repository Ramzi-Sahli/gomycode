{
 "cells": [
  {
   "cell_type": "code",
   "execution_count": 1,
   "metadata": {},
   "outputs": [
    {
     "name": "stdout",
     "output_type": "stream",
     "text": [
      "[30, 56, 89]\n"
     ]
    }
   ],
   "source": [
    "# Question 1: program to Write a Python program to convert an array to an ordinary list with the same items. we can use the np.tolist() function\n",
    "\n",
    "from array import *\n",
    "def array_list(np):\n",
    "    nl = np.tolist()\n",
    "    print(nl)\n",
    "  \n",
    "np = array('i', [30,56,89])\n",
    "array_list(np)"
   ]
  },
  {
   "cell_type": "code",
   "execution_count": 9,
   "metadata": {},
   "outputs": [
    {
     "name": "stdout",
     "output_type": "stream",
     "text": [
      "Matrix:\n",
      "[[23 45 67]\n",
      " [12 51  4]\n",
      " [ 6  8 11]]\n",
      "\n",
      "Trace:\n",
      "85\n"
     ]
    }
   ],
   "source": [
    "# Question 2: NumPy program to compute the sum of the diagonal element of a given array.\n",
    "\n",
    "import numpy as np\n",
    "A_array = np.array([[23, 45, 67],\n",
    "                    [12, 51, 4],\n",
    "                    [6, 8, 11]])\n",
    "print(\"Matrix:\")\n",
    "print(A_array)\n",
    "trace = np.trace(A_array)\n",
    "print(\"\\nTrace:\")\n",
    "print(trace)"
   ]
  },
  {
   "cell_type": "code",
   "execution_count": 10,
   "metadata": {},
   "outputs": [
    {
     "name": "stdout",
     "output_type": "stream",
     "text": [
      "Matrix:\n",
      "[[23 45 67]\n",
      " [12 51  4]\n",
      " [ 6  8 11]]\n",
      "Values bigger than 11 = [23 45 67 12 51]\n"
     ]
    }
   ],
   "source": [
    "# Question 3: Given an array of your choice, get all the values higher than X :\n",
    "print(\"Matrix:\")\n",
    "print(A_array)\n",
    "print(\"Values bigger than 11 =\", A_array[A_array>11])"
   ]
  },
  {
   "cell_type": "code",
   "execution_count": 11,
   "metadata": {},
   "outputs": [
    {
     "name": "stdout",
     "output_type": "stream",
     "text": [
      "[[ 38  77  67]\n",
      " [ 32 102   8]\n",
      " [ 12  13  20]]\n"
     ]
    }
   ],
   "source": [
    "# Question 4: Given two arrays A&B having the same shape. The task is to apply addition by hand : C is the new array. \n",
    "\n",
    "B_array = np.array([[15, 32, 0],\n",
    "                    [20, 51, 4],\n",
    "                    [6, 5, 9]])\n",
    "C=A_array+B_array\n",
    "print(C)"
   ]
  },
  {
   "cell_type": "code",
   "execution_count": 13,
   "metadata": {},
   "outputs": [
    {
     "name": "stdout",
     "output_type": "stream",
     "text": [
      "Subtract the mean of each row of the said matrix:\n",
      "\n",
      "[[-22.66666667  16.33333333   6.33333333]\n",
      " [-15.33333333  54.66666667 -39.33333333]\n",
      " [ -3.          -2.           5.        ]]\n"
     ]
    }
   ],
   "source": [
    "# Question 5: Write a NumPy program to subtract the mean of each row of a given matrix.\n",
    "\n",
    "print(\"Subtract the mean of each row of the said matrix:\\n\")\n",
    "D = C - C.mean(axis=1, keepdims=True)\n",
    "print(D)"
   ]
  }
 ],
 "metadata": {
  "kernelspec": {
   "display_name": "Python 3",
   "language": "python",
   "name": "python3"
  },
  "language_info": {
   "codemirror_mode": {
    "name": "ipython",
    "version": 3
   },
   "file_extension": ".py",
   "mimetype": "text/x-python",
   "name": "python",
   "nbconvert_exporter": "python",
   "pygments_lexer": "ipython3",
   "version": "3.8.5"
  }
 },
 "nbformat": 4,
 "nbformat_minor": 4
}
