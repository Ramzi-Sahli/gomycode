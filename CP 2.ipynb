{
 "cells": [
  {
   "cell_type": "code",
   "execution_count": 13,
   "metadata": {},
   "outputs": [
    {
     "name": "stdout",
     "output_type": "stream",
     "text": [
      "Enter the elements of the list separated with space: 3 4 5\n",
      "\n",
      "\n",
      "List:  ['3', '4', '5']\n",
      "Elements_Multiplication =  60\n"
     ]
    }
   ],
   "source": [
    "# Question 1: program which multiplies all the items in a list\n",
    "\n",
    "I = input('Enter the elements of the list separated with space: ')\n",
    "\n",
    "print(\"\\n\")\n",
    "List = I.split()\n",
    "\n",
    "print('List: ', List)\n",
    "multiply=1\n",
    "\n",
    "for i in range(len(List)):\n",
    "    List[i] = int(List[i])\n",
    "    multiply=multiply*List[i]\n",
    "\n",
    "print(\"Elements_Multiplication = \",multiply)"
   ]
  },
  {
   "cell_type": "code",
   "execution_count": 14,
   "metadata": {},
   "outputs": [
    {
     "name": "stdout",
     "output_type": "stream",
     "text": [
      "Sorted:\n",
      "[(2, 1), (3, 2), (1, 3)]\n"
     ]
    }
   ],
   "source": [
    "# Question 2: program to get a list, sorted in increasing order by the last element in each tuple from a given list of non-empty tuples.\n",
    "\n",
    "def last(n): \n",
    "    return n[-1]   \n",
    "   \n",
    "def sort(tuples): \n",
    "    return sorted(tuples, key=last) \n",
    "   \n",
    "a=[(1, 3), (3, 2), (2, 1)] \n",
    "print(\"Sorted:\") \n",
    "print(sort(a))"
   ]
  },
  {
   "cell_type": "code",
   "execution_count": 1,
   "metadata": {},
   "outputs": [
    {
     "name": "stdout",
     "output_type": "stream",
     "text": [
      "{'a': 400, 'b': 400, 'c': 300, 'd': 400}\n"
     ]
    }
   ],
   "source": [
    "# Question 3: program to combine two dictionary adding values for common keys\n",
    "\n",
    "import itertools  \n",
    "import collections\n",
    "\n",
    "d1 = {'a': 100, 'b': 200, 'c': 300} \n",
    "d2 = {'a': 300, 'b': 200, 'd': 400} \n",
    " \n",
    "Cdict = collections.defaultdict(int) \n",
    "  \n",
    "for key, val in itertools.chain(d1.items(), d2.items()): \n",
    "    Cdict[key] += val \n",
    "      \n",
    "print(dict(Cdict))"
   ]
  },
  {
   "cell_type": "code",
   "execution_count": 2,
   "metadata": {},
   "outputs": [
    {
     "name": "stdout",
     "output_type": "stream",
     "text": [
      "Enter the value of n: 8\n",
      "{1: 1, 2: 4, 3: 9, 4: 16, 5: 25, 6: 36, 7: 49, 8: 64}\n"
     ]
    }
   ],
   "source": [
    "# Question 4: program to generate a dictionary that contains (i, i*i) such that i is an integral number between 1 and n (both included). and then the program should print the dictionary\n",
    "\n",
    "n = int(input(\"Enter the value of n: \"))\n",
    "\n",
    "squares = {i : i*i for i in range(1, n+1)}\n",
    "\n",
    "print(squares)"
   ]
  },
  {
   "cell_type": "code",
   "execution_count": 2,
   "metadata": {},
   "outputs": [
    {
     "name": "stdout",
     "output_type": "stream",
     "text": [
      "Sort of Tuples By Its Float Number :: [('item3', '24.5'), ('item2', '15.10'), ('item1', '12.20')]\n"
     ]
    }
   ],
   "source": [
    "# Question 5: program to sort a tuple by its float element\n",
    "\n",
    "def tuplesort(b):\n",
    "    return(sorted(b, key = lambda x: float(x[1]), reverse = True))\n",
    "\n",
    "b=[('item1','12.20'),('item2','15.10'),('item3','24.5')]\n",
    "print(\"Sort of Tuples By Its Float Number ::\",tuplesort(b))"
   ]
  }
 ],
 "metadata": {
  "celltoolbar": "Aucun(e)",
  "kernelspec": {
   "display_name": "Python 3",
   "language": "python",
   "name": "python3"
  },
  "language_info": {
   "codemirror_mode": {
    "name": "ipython",
    "version": 3
   },
   "file_extension": ".py",
   "mimetype": "text/x-python",
   "name": "python",
   "nbconvert_exporter": "python",
   "pygments_lexer": "ipython3",
   "version": "3.8.5"
  }
 },
 "nbformat": 4,
 "nbformat_minor": 4
}
