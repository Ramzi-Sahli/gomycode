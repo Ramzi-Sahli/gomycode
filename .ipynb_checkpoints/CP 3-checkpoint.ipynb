{
 "cells": [
  {
   "cell_type": "code",
   "execution_count": 4,
   "metadata": {},
   "outputs": [
    {
     "name": "stdout",
     "output_type": "stream",
     "text": [
      "Enter the numbers to be compared:\n",
      "13.5\n",
      "67\n",
      "67.1\n",
      "The maximum is:  67.1\n"
     ]
    }
   ],
   "source": [
    "# Question 1: program to find the Max of three numbers\n",
    "\n",
    "print(\"Enter the numbers to be compared:\")\n",
    "a=input()\n",
    "b=input()\n",
    "c=input()\n",
    "\n",
    "def max (a, b, c):\n",
    "    if a>=b and a>=c:\n",
    "        return(a)\n",
    "    elif b>=a and b>=c:\n",
    "        return (b)\n",
    "    else:\n",
    "        return (c)\n",
    "\n",
    "print(\"The maximum is: \",max(a,b,c))"
   ]
  },
  {
   "cell_type": "code",
   "execution_count": 8,
   "metadata": {},
   "outputs": [
    {
     "name": "stdout",
     "output_type": "stream",
     "text": [
      "Enter the first variable: 34\n",
      "Enter the second variable: 67\n"
     ]
    },
    {
     "data": {
      "text/plain": [
       "('addition result: ', 101, 'substruction result', -33)"
      ]
     },
     "execution_count": 8,
     "metadata": {},
     "output_type": "execute_result"
    }
   ],
   "source": [
    "# Question 2: program to accept two variables and calculate the addition and subtraction of it. And also it must return both addition and subtraction in a single return call\n",
    "\n",
    "a=int(input(\"Enter the first variable: \"))\n",
    "b=int(input(\"Enter the second variable: \"))\n",
    "\n",
    "def calculation(a,b):\n",
    "    return (\"addition result: \",a+b,\"substruction result\",a-b)\n",
    "\n",
    "calculation(a,b)"
   ]
  },
  {
   "cell_type": "code",
   "execution_count": 18,
   "metadata": {},
   "outputs": [
    {
     "name": "stdout",
     "output_type": "stream",
     "text": [
      "Enter the number of elements: 5\n",
      "Enter element: 6\n",
      "Enter element: 8\n",
      "Enter element: 5\n",
      "Enter element: 3\n",
      "Enter element: 2\n",
      "list is:  [6, 8, 5, 3, 2]\n",
      "Sum of list elements of even position is:  13\n",
      "Multiplication of list elements of odd position is:  24\n"
     ]
    }
   ],
   "source": [
    "# Question 3: program to accept a list of integers, sum-up elements of even position and multiply the rest\n",
    "\n",
    "l = []\n",
    "nbr = int(input('Enter the number of elements: '))\n",
    "for n in range(nbr):\n",
    "    e = int(input('Enter integer element: '))\n",
    "    l.append(e)\n",
    "print(\"list is: \",l)\n",
    "\n",
    "i=0\n",
    "l_even=[]\n",
    "while i in range (nbr):\n",
    "    l_even.append(l[i])\n",
    "    i=i+2\n",
    "\n",
    "j=1\n",
    "l_odd=[]\n",
    "while j in range (nbr):\n",
    "    l_odd.append(l[j])\n",
    "    j=j+2\n",
    "\n",
    "def sum_list (l_even):\n",
    "    print(\"Sum of list elements of even position is: \", sum(l_even))\n",
    "\n",
    "\n",
    "def multi_list (l_odd):\n",
    "    r=1\n",
    "    for x in l_odd:\n",
    "        r=r*x\n",
    "    print(\"Multiplication of list elements of odd position is: \", r)\n",
    "\n",
    "sum_list (l_even)\n",
    "multi_list (l_odd)"
   ]
  },
  {
   "cell_type": "code",
   "execution_count": 19,
   "metadata": {},
   "outputs": [
    {
     "name": "stdout",
     "output_type": "stream",
     "text": [
      "blue-red-brown-beige-white-orange-pink\n",
      "beige-blue-brown-orange-pink-red-white\n"
     ]
    }
   ],
   "source": [
    "# Question 4:program to accept a hyphen-separated sequence of words, sort it alphabetically and print it in a hyphen-separated sequence\n",
    "\n",
    "l=[n for n in input().split('-')]\n",
    "l.sort()\n",
    "print('-'.join(l))"
   ]
  },
  {
   "cell_type": "code",
   "execution_count": 21,
   "metadata": {},
   "outputs": [
    {
     "name": "stdout",
     "output_type": "stream",
     "text": [
      "Enter D integer values in a comma-separated sequence: 100,150,180\n",
      "[18, 22, 24]\n"
     ]
    }
   ],
   "source": [
    "# Question 5:program to calculate according to the given formula: Q = Square root of [(2 * C * D)/H] where D values are entered in comma-separated sequence\n",
    "\n",
    "import math\n",
    "\n",
    "e = input(\"Enter D integer values in a comma-separated sequence: \")\n",
    "e = e.split(',')\n",
    "\n",
    "l = []\n",
    "for D in e:\n",
    "    Q = round(math.sqrt(2 * 50 * int(D) / 30))\n",
    "    l.append(Q)\n",
    "\n",
    "print(l)"
   ]
  }
 ],
 "metadata": {
  "kernelspec": {
   "display_name": "Python 3",
   "language": "python",
   "name": "python3"
  },
  "language_info": {
   "codemirror_mode": {
    "name": "ipython",
    "version": 3
   },
   "file_extension": ".py",
   "mimetype": "text/x-python",
   "name": "python",
   "nbconvert_exporter": "python",
   "pygments_lexer": "ipython3",
   "version": "3.8.5"
  }
 },
 "nbformat": 4,
 "nbformat_minor": 4
}
