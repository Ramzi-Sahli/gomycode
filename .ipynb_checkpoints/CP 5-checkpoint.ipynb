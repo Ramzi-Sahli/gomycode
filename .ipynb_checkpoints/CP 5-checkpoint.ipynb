{
 "cells": [
  {
   "cell_type": "code",
   "execution_count": 1,
   "metadata": {},
   "outputs": [
    {
     "name": "stdout",
     "output_type": "stream",
     "text": [
      "[30, 56, 89]\n"
     ]
    }
   ],
   "source": [
    "# Question 1: program to Write a Python program to convert an array to an ordinary list with the same items. we can use the np.tolist() function\n",
    "\n",
    "from array import *\n",
    "def array_list(np):\n",
    "    nl = np.tolist()\n",
    "    print(nl)\n",
    "  \n",
    "np = array('i', [30,56,89])\n",
    "array_list(np)"
   ]
  },
  {
   "cell_type": "code",
   "execution_count": 3,
   "metadata": {},
   "outputs": [
    {
     "name": "stdout",
     "output_type": "stream",
     "text": [
      "Matrix:\n",
      "[[23 45 67]\n",
      " [12 51  4]\n",
      " [ 6  8 11]]\n",
      "\n",
      "Trace:\n",
      "85\n"
     ]
    }
   ],
   "source": [
    "# Question 2: NumPy program to compute the sum of the diagonal element of a given array.\n",
    "\n",
    "import numpy as np\n",
    "n_array = np.array([[23, 45, 67],\n",
    "                    [12, 51, 4],\n",
    "                    [6, 8, 11]])\n",
    "print(\"Matrix:\")\n",
    "print(n_array)\n",
    "trace = np.trace(n_array)\n",
    "print(\"\\nTrace:\")\n",
    "print(trace)"
   ]
  },
  {
   "cell_type": "code",
   "execution_count": null,
   "metadata": {},
   "outputs": [],
   "source": []
  }
 ],
 "metadata": {
  "kernelspec": {
   "display_name": "Python 3",
   "language": "python",
   "name": "python3"
  },
  "language_info": {
   "codemirror_mode": {
    "name": "ipython",
    "version": 3
   },
   "file_extension": ".py",
   "mimetype": "text/x-python",
   "name": "python",
   "nbconvert_exporter": "python",
   "pygments_lexer": "ipython3",
   "version": "3.8.5"
  }
 },
 "nbformat": 4,
 "nbformat_minor": 4
}
