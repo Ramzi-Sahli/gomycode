{
 "cells": [
  {
   "cell_type": "code",
   "execution_count": 1,
   "metadata": {},
   "outputs": [
    {
     "name": "stdout",
     "output_type": "stream",
     "text": [
      "        name  score  attempts qualify\n",
      "a  Anastasia   12.5         1     yes\n",
      "b       Dima    9.0         3      no\n",
      "c  Katherine   16.5         2     yes\n"
     ]
    }
   ],
   "source": [
    "# Question 1: Print the three first rows\n",
    "\n",
    "import pandas as pd\n",
    "import numpy as np\n",
    "\n",
    "exam_data = {'name': ['Anastasia',\n",
    "                      'Dima',\n",
    "                      'Katherine',\n",
    "                      'James',\n",
    "                      'Emily',\n",
    "                      'Michael',\n",
    "                      'Matthew',\n",
    "                      'Laura',\n",
    "                      'Kevin',\n",
    "                      'Jonas'],\n",
    "             'score': [12.5, 9, 16.5, np.nan, 9, 20, 14.5, np.nan, 8, 19],\n",
    "             'attempts': [1, 3, 2, 3, 2, 3, 1, 1, 2, 1],\n",
    "             'qualify': ['yes', 'no', 'yes', 'no', 'no', 'yes', 'yes', 'no', 'no', 'yes']}\n",
    "labels = ['a', 'b', 'c', 'd', 'e', 'f', 'g', 'h', 'i', 'j']\n",
    "df = pd.DataFrame(exam_data, labels)\n",
    "print(df.loc[:'c'])"
   ]
  },
  {
   "cell_type": "code",
   "execution_count": 2,
   "metadata": {},
   "outputs": [
    {
     "name": "stdout",
     "output_type": "stream",
     "text": [
      "        name  score  attempts qualify\n",
      "a  Anastasia   12.5         1     yes\n",
      "b       Dima    9.0         3      no\n",
      "c  Katherine   16.5         2     yes\n",
      "e      Emily    9.0         2      no\n",
      "f    Michael   20.0         3     yes\n",
      "g    Matthew   14.5         1     yes\n",
      "i      Kevin    8.0         2      no\n",
      "j      Jonas   19.0         1     yes\n"
     ]
    }
   ],
   "source": [
    "# Question 2: Delete rows with Nan values\n",
    "\n",
    "print(df[(df.score>0)])"
   ]
  },
  {
   "cell_type": "code",
   "execution_count": 3,
   "metadata": {},
   "outputs": [
    {
     "name": "stdout",
     "output_type": "stream",
     "text": [
      "        name  score\n",
      "a  Anastasia   12.5\n",
      "b       Dima    9.0\n",
      "c  Katherine   16.5\n",
      "d      James    NaN\n",
      "e      Emily    9.0\n",
      "f    Michael   20.0\n",
      "g    Matthew   14.5\n",
      "h      Laura    NaN\n",
      "i      Kevin    8.0\n",
      "j      Jonas   19.0\n"
     ]
    }
   ],
   "source": [
    "# Question 3: Extract the 'name' and 'score' columns from the DataFrame.\n",
    "\n",
    "print(df[['name','score']])"
   ]
  },
  {
   "cell_type": "code",
   "execution_count": 4,
   "metadata": {},
   "outputs": [
    {
     "name": "stdout",
     "output_type": "stream",
     "text": [
      "        name  score  attempts qualify\n",
      "a  Anastasia   12.5         1     yes\n",
      "b       Dima    9.0         3      no\n",
      "c  Katherine   16.5         2     yes\n",
      "d      James    NaN         3      no\n",
      "e      Emily    9.0         2      no\n",
      "f    Michael   20.0         3     yes\n",
      "g    Matthew   14.5         1     yes\n",
      "h      Laura    NaN         1      no\n",
      "i      Kevin    8.0         2      no\n",
      "j      Jonas   19.0         1     yes\n",
      "k     Suresh   15.5         1     yes\n"
     ]
    }
   ],
   "source": [
    "# Question 4: Write a Pandas program to append a new row 'k' to data frame with these values(name : \"Suresh\", score: 15.5, attempts: 1, qualify: \"yes\")\n",
    "\n",
    "df.loc['k'] = {'name' : \"Suresh\", 'score': 15.5, 'attempts': 1, 'qualify': \"yes\"}\n",
    "print(df)"
   ]
  },
  {
   "cell_type": "code",
   "execution_count": 5,
   "metadata": {},
   "outputs": [
    {
     "name": "stdout",
     "output_type": "stream",
     "text": [
      "        name  score qualify\n",
      "a  Anastasia   12.5     yes\n",
      "b       Dima    9.0      no\n",
      "c  Katherine   16.5     yes\n",
      "d      James    NaN      no\n",
      "e      Emily    9.0      no\n",
      "f    Michael   20.0     yes\n",
      "g    Matthew   14.5     yes\n",
      "h      Laura    NaN      no\n",
      "i      Kevin    8.0      no\n",
      "j      Jonas   19.0     yes\n",
      "k     Suresh   15.5     yes\n"
     ]
    }
   ],
   "source": [
    "# Question 5: Write a Pandas program to delete the 'attempts' column from the DataFrame.\n",
    "\n",
    "df.drop(columns='attempts', inplace=True)\n",
    "print(df)"
   ]
  },
  {
   "cell_type": "code",
   "execution_count": 9,
   "metadata": {},
   "outputs": [
    {
     "name": "stdout",
     "output_type": "stream",
     "text": [
      "        name  score qualify new_column  Success\n",
      "a  Anastasia   12.5     yes       None        1\n",
      "b       Dima    9.0      no       None        0\n",
      "c  Katherine   16.5     yes       None        1\n",
      "d      James    NaN      no       None        0\n",
      "e      Emily    9.0      no       None        0\n",
      "f    Michael   20.0     yes       None        1\n",
      "g    Matthew   14.5     yes       None        1\n",
      "h      Laura    NaN      no       None        0\n",
      "i      Kevin    8.0      no       None        0\n",
      "j      Jonas   19.0     yes       None        1\n",
      "k     Suresh   15.5     yes       None        1\n"
     ]
    }
   ],
   "source": [
    "# Question 6: Add a new column \"Success\" : if the score is higher than 10 we will have 1 else we will have 0\n",
    "\n",
    "\n",
    "df['Success'] = [1, 0, 1, 0, 0, 1, 1, 0, 0, 1, 1]\n",
    "print(df)"
   ]
  },
  {
   "cell_type": "code",
   "execution_count": 14,
   "metadata": {},
   "outputs": [
    {
     "name": "stdout",
     "output_type": "stream",
     "text": [
      "   name\\tscore\\tqualify\\tnew_column\\tSuccess\n",
      "0                  Anastasia\\t12.5\\tyes\\t\\t1\n",
      "1                         Dima\\t9.0\\tno\\t\\t0\n",
      "2                  Katherine\\t16.5\\tyes\\t\\t1\n",
      "3                           James\\t\\tno\\t\\t0\n",
      "4                        Emily\\t9.0\\tno\\t\\t0\n",
      "5                    Michael\\t20.0\\tyes\\t\\t1\n",
      "6                    Matthew\\t14.5\\tyes\\t\\t1\n",
      "7                           Laura\\t\\tno\\t\\t0\n",
      "8                        Kevin\\t8.0\\tno\\t\\t0\n",
      "9                      Jonas\\t19.0\\tyes\\t\\t1\n",
      "10                    Suresh\\t15.5\\tyes\\t\\t1\n"
     ]
    }
   ],
   "source": [
    "# Question 7: After executing the final dataframe, export it into csv file named \"my_data\"\n",
    "\n",
    "df.to_csv('my_data.csv', sep = '\\t', index = False)\n",
    "\n",
    "new_df = pd.read_csv('my_data.csv')\n",
    "print(new_df)"
   ]
  }
 ],
 "metadata": {
  "kernelspec": {
   "display_name": "Python 3",
   "language": "python",
   "name": "python3"
  },
  "language_info": {
   "codemirror_mode": {
    "name": "ipython",
    "version": 3
   },
   "file_extension": ".py",
   "mimetype": "text/x-python",
   "name": "python",
   "nbconvert_exporter": "python",
   "pygments_lexer": "ipython3",
   "version": "3.8.5"
  }
 },
 "nbformat": 4,
 "nbformat_minor": 4
}
